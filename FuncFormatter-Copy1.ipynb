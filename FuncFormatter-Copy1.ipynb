{
 "cells": [
  {
   "cell_type": "markdown",
   "metadata": {},
   "source": [
    "# Plotting Numbers With Colormaps"
   ]
  },
  {
   "cell_type": "code",
   "execution_count": 8,
   "metadata": {
    "collapsed": true
   },
   "outputs": [],
   "source": [
    "import numpy as np\n",
    "import pandas as pd\n",
    "import matplotlib.pyplot as plt\n",
    "%matplotlib inline"
   ]
  },
  {
   "cell_type": "code",
   "execution_count": 9,
   "metadata": {
    "collapsed": false
   },
   "outputs": [],
   "source": [
    "import numpy as np\n",
    "import pandas as pd\n",
    "import matplotlib.pyplot as plt\n",
    "\n",
    "\n",
    "\n",
    "k = np.array([0,0])\n",
    "l = np.array([6,6])\n",
    "m = np.array([7,7])\n",
    "n = np.array([8,8])\n",
    "o = np.array([9,9])\n",
    "p = np.array([10,10])\n",
    "q = np.array([11,11])\n",
    "r = np.array([12,12])\n",
    "s = np.array([13,13])\n",
    "t = np.array([14,14])\n",
    "u = np.array([15,15])\n",
    "v = np.array([1,1])\n",
    "w = np.array([2,2])\n",
    "x = np.array([3,3])\n",
    "y = np.array([4,4])\n",
    "z = np.array([5,5])\n",
    "\n",
    "number_names = np.array(['zero', 'one','two','three','four','five','six',\"seven\" ,\"eight\" \\\n",
    "                         ,\"nine\" ,\"ten\" ,\"eleven\" ,\"twelve\" ,\"thirteen\" ,\"fourteen\",\"fifteen\"])\n",
    "target = np.array([0,1,2,3,4,5,6,7,8,9,10,11,12,13,14,15])\n",
    "numbers = np.array([k,l,m,n,o,p,q,r,s,t,u,v,w,x,y,z])\n",
    "numbers = numbers.T"
   ]
  },
  {
   "cell_type": "code",
   "execution_count": 10,
   "metadata": {
    "collapsed": false
   },
   "outputs": [
    {
     "name": "stdout",
     "output_type": "stream",
     "text": [
      "target: [ 0  1  2  3  4  5  6  7  8  9 10 11 12 13 14 15]\n",
      "names: ['zero' 'one' 'two' 'three' 'four' 'five' 'six' 'seven' 'eight' 'nine'\n",
      " 'ten' 'eleven' 'twelve' 'thirteen' 'fourteen' 'fifteen']\n",
      "numbers:\n",
      " [[ 0  6  7  8  9 10 11 12 13 14 15  1  2  3  4  5]\n",
      " [ 0  6  7  8  9 10 11 12 13 14 15  1  2  3  4  5]]\n"
     ]
    }
   ],
   "source": [
    "print(\"target:\", target)\n",
    "print(\"names:\",number_names)\n",
    "print(\"numbers:\"\"\\n\",numbers)"
   ]
  },
  {
   "cell_type": "code",
   "execution_count": 11,
   "metadata": {
    "collapsed": false
   },
   "outputs": [
    {
     "data": {
      "text/plain": [
       "(16,)"
      ]
     },
     "execution_count": 11,
     "metadata": {},
     "output_type": "execute_result"
    }
   ],
   "source": [
    "target.shape"
   ]
  },
  {
   "cell_type": "code",
   "execution_count": 12,
   "metadata": {
    "collapsed": false
   },
   "outputs": [
    {
     "data": {
      "text/plain": [
       "(2, 16)"
      ]
     },
     "execution_count": 12,
     "metadata": {},
     "output_type": "execute_result"
    }
   ],
   "source": [
    "numbers.shape"
   ]
  },
  {
   "cell_type": "code",
   "execution_count": 13,
   "metadata": {
    "collapsed": false
   },
   "outputs": [],
   "source": [
    "a = numbers[0]\n",
    "b = numbers[1]"
   ]
  },
  {
   "cell_type": "code",
   "execution_count": 14,
   "metadata": {
    "collapsed": false
   },
   "outputs": [
    {
     "data": {
      "image/png": "[encoded data removed]",
      "text/plain": [
       "<matplotlib.figure.Figure at 0x10d7e6e48>"
      ]
     },
     "metadata": {},
     "output_type": "display_data"
    }
   ],
   "source": [
    "def number_plot(numbers):\n",
    "  \n",
    "    formatter = plt.FuncFormatter(lambda i, *args: number_names[(i)])\n",
    "    plt.scatter(numbers[0], numbers[1], c = target[:,])\n",
    "    plt.colorbar(ticks = [0,1,2,3,4,5,6,7,8,9,10,11,12,13,14,15], format = formatter)\n",
    "    \n",
    "number_plot(numbers)"
   ]
  }
 ],
 "metadata": {
  "kernelspec": {
   "display_name": "Python 3",
   "language": "python",
   "name": "python3"
  },
  "language_info": {
   "codemirror_mode": {
    "name": "ipython",
    "version": 3
   },
   "file_extension": ".py",
   "mimetype": "text/x-python",
   "name": "python",
   "nbconvert_exporter": "python",
   "pygments_lexer": "ipython3",
   "version": "3.6.0"
  }
 },
 "nbformat": 4,
 "nbformat_minor": 2
}
