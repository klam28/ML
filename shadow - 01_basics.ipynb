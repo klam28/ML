{
 "cells": [
  {
   "cell_type": "markdown",
   "metadata": {},
   "source": [
    "# Numpy"
   ]
  },
  {
   "cell_type": "code",
   "execution_count": 1,
   "metadata": {
    "collapsed": false
   },
   "outputs": [
    {
     "name": "stdout",
     "output_type": "stream",
     "text": [
      "[[ 0.05973887  0.33920437  0.86776089  0.91122371  0.68416402]\n",
      " [ 0.38619777  0.51503866  0.2995845   0.8733827   0.04890102]\n",
      " [ 0.43595139  0.57045487  0.26263718  0.76275375  0.63021022]\n",
      " [ 0.83910836  0.7271145   0.78085236  0.36426871  0.48011417]\n",
      " [ 0.74657582  0.57134724  0.70180225  0.42929149  0.548452  ]]\n"
     ]
    }
   ],
   "source": [
    "import numpy as np\n",
    "\n",
    "# Generate A Random Array With n_rows And n_columns\n",
    "\n",
    "arr = np.random.random((5,5)) # 5 x 5 array\n",
    "print (arr)"
   ]
  },
  {
   "cell_type": "code",
   "execution_count": 2,
   "metadata": {
    "collapsed": false
   },
   "outputs": [
    {
     "name": "stdout",
     "output_type": "stream",
     "text": [
      "0.0597388735592\n",
      "[ 0.05973887  0.33920437  0.86776089  0.91122371  0.68416402]\n",
      "[ 0.74657582  0.57134724  0.70180225  0.42929149  0.548452  ]\n",
      "[ 0.05973887  0.38619777  0.43595139  0.83910836  0.74657582]\n",
      "[ 0.68416402  0.04890102  0.63021022  0.48011417  0.548452  ]\n"
     ]
    }
   ],
   "source": [
    "# Accessing elements in the array\n",
    "\n",
    "print (arr[0,0]) # prints single element in the array\n",
    "print (arr[0,:]) # prints first row in the array\n",
    "print (arr[-1,:]) # prints last row in the array\n",
    "\n",
    "print (arr[:,0]) # prints the first column in the array\n",
    "print (arr[:,-1]) # prints the last column in the array\n"
   ]
  },
  {
   "cell_type": "code",
   "execution_count": 3,
   "metadata": {
    "collapsed": false
   },
   "outputs": [
    {
     "name": "stdout",
     "output_type": "stream",
     "text": [
      "[[ 0.05973887  0.38619777  0.43595139  0.83910836  0.74657582]\n",
      " [ 0.33920437  0.51503866  0.57045487  0.7271145   0.57134724]\n",
      " [ 0.86776089  0.2995845   0.26263718  0.78085236  0.70180225]\n",
      " [ 0.91122371  0.8733827   0.76275375  0.36426871  0.42929149]\n",
      " [ 0.68416402  0.04890102  0.63021022  0.48011417  0.548452  ]]\n"
     ]
    }
   ],
   "source": [
    "# Transpose an Array\n",
    "\n",
    "print(arr.T) # Switches The Rows And Columns Of An Array With Each Other\n",
    "# (e.g. Row Vector Becomes Column Vector And Column Vector Becomes Row Vector)"
   ]
  },
  {
   "cell_type": "code",
   "execution_count": 4,
   "metadata": {
    "collapsed": false
   },
   "outputs": [
    {
     "name": "stdout",
     "output_type": "stream",
     "text": [
      "[  0.  10.  20.]\n",
      "[[  0.]\n",
      " [ 10.]\n",
      " [ 20.]]\n"
     ]
    }
   ],
   "source": [
    "# Np.Linspace(Start Number, End Number, N_Points) Prints Out As Row Vector\n",
    "x = np.linspace(0,20,3)\n",
    "print(x)\n",
    "\n",
    "# Convert x Into A Column Vector\n",
    "print (x[:, np.newaxis])\n",
    "\n"
   ]
  },
  {
   "cell_type": "markdown",
   "metadata": {},
   "source": [
    "# Scipy Sparse Matrices"
   ]
  },
  {
   "cell_type": "code",
   "execution_count": 5,
   "metadata": {
    "collapsed": false
   },
   "outputs": [],
   "source": [
    "# Storing Zeros Are Inefficient When Working With Data That Contains Mostly Zeros"
   ]
  },
  {
   "cell_type": "code",
   "execution_count": 6,
   "metadata": {
    "collapsed": false
   },
   "outputs": [
    {
     "name": "stdout",
     "output_type": "stream",
     "text": [
      "[[ 0.10219105  0.00807995  0.25238057  0.78644653  0.85109568]\n",
      " [ 0.38073905  0.80326788  0.99691422  0.22651962  0.88913953]\n",
      " [ 0.99494056  0.56344062  0.08829096  0.77484485  0.38070652]\n",
      " [ 0.09162603  0.13031729  0.73736719  0.87985604  0.62423776]\n",
      " [ 0.67400671  0.40427328  0.88670577  0.93569795  0.29418025]]\n"
     ]
    }
   ],
   "source": [
    "arr = np.random.random((5,5))\n",
    "print(arr)"
   ]
  },
  {
   "cell_type": "code",
   "execution_count": 7,
   "metadata": {
    "collapsed": false
   },
   "outputs": [
    {
     "name": "stdout",
     "output_type": "stream",
     "text": [
      "[[ 0.          0.          0.          0.78644653  0.85109568]\n",
      " [ 0.          0.80326788  0.99691422  0.          0.88913953]\n",
      " [ 0.99494056  0.56344062  0.          0.77484485  0.        ]\n",
      " [ 0.          0.          0.73736719  0.87985604  0.62423776]\n",
      " [ 0.67400671  0.          0.88670577  0.93569795  0.        ]]\n"
     ]
    }
   ],
   "source": [
    "# Converts Any Data In Variable X Into 0 When Less Than 0.5\n",
    "# Makes Data Less Dense \n",
    "arr[arr < 0.5] = 0\n",
    "print(arr)"
   ]
  },
  {
   "cell_type": "code",
   "execution_count": 8,
   "metadata": {
    "collapsed": false
   },
   "outputs": [
    {
     "name": "stdout",
     "output_type": "stream",
     "text": [
      "  (0, 3)\t0.786446527316\n",
      "  (0, 4)\t0.851095679393\n",
      "  (1, 1)\t0.803267883673\n",
      "  (1, 2)\t0.996914223057\n",
      "  (1, 4)\t0.889139526574\n",
      "  (2, 0)\t0.99494055737\n",
      "  (2, 1)\t0.5634406181\n",
      "  (2, 3)\t0.774844847797\n",
      "  (3, 2)\t0.737367186821\n",
      "  (3, 3)\t0.879856037797\n",
      "  (3, 4)\t0.624237757874\n",
      "  (4, 0)\t0.674006713113\n",
      "  (4, 2)\t0.886705771859\n",
      "  (4, 3)\t0.935697953878\n"
     ]
    }
   ],
   "source": [
    "from scipy import sparse\n",
    "\n",
    "\"\"\"Converts arr Into A CSR (Compressed_Sparse_Row) Matrix By Removing \n",
    "Zeros From The Data.\n",
    "Left Column Provides The Position Of A Data Point.\n",
    "Right Column Provides The Value.\"\"\" \n",
    "\n",
    "arr_csr = sparse.csr_matrix(arr)\n",
    "print (arr_csr)"
   ]
  },
  {
   "cell_type": "code",
   "execution_count": 9,
   "metadata": {
    "collapsed": false
   },
   "outputs": [
    {
     "name": "stdout",
     "output_type": "stream",
     "text": [
      "[[ 0.          0.          0.          0.78644653  0.85109568]\n",
      " [ 0.          0.80326788  0.99691422  0.          0.88913953]\n",
      " [ 0.99494056  0.56344062  0.          0.77484485  0.        ]\n",
      " [ 0.          0.          0.73736719  0.87985604  0.62423776]\n",
      " [ 0.67400671  0.          0.88670577  0.93569795  0.        ]]\n"
     ]
    }
   ],
   "source": [
    "# Convert The Sparse Matrix Back To A Dense Array\n",
    "print(arr_csr.toarray())"
   ]
  },
  {
   "cell_type": "code",
   "execution_count": 10,
   "metadata": {
    "collapsed": false
   },
   "outputs": [
    {
     "name": "stdout",
     "output_type": "stream",
     "text": [
      "[ 0.75822016  0.75105484  0.534959    0.57583548  0.38072888]\n",
      "[ 0.77690052  1.47512756  1.62374195  1.13877887  1.52420479]\n",
      "[ 0.77690052  1.47512756  1.62374195  1.13877887  1.52420479]\n"
     ]
    },
    {
     "data": {
      "text/plain": [
       "True"
      ]
     },
     "execution_count": 10,
     "metadata": {},
     "output_type": "execute_result"
    }
   ],
   "source": [
    "# Sparse Matrices Supporting Linear Algebra\n",
    "x = np.random.random(arr_csr.shape[1])\n",
    "print(x)\n",
    "\n",
    "# Apply Dot Product\n",
    "arr1 = arr_csr.dot(x)\n",
    "print(arr1)\n",
    "arr2 = arr.dot(x)\n",
    "print (arr2)\n",
    "\n",
    "# Check If Arr1 And Arr2 Match\n",
    "np.allclose(arr1, arr2)"
   ]
  },
  {
   "cell_type": "markdown",
   "metadata": {},
   "source": [
    "CSR Representation is efficient for computations, but not efficient for adding elements. Using the LIL (List-In-List) representation is better:"
   ]
  },
  {
   "cell_type": "code",
   "execution_count": 11,
   "metadata": {
    "collapsed": false
   },
   "outputs": [
    {
     "name": "stdout",
     "output_type": "stream",
     "text": [
      "  (0, 3)\t3.0\n",
      "  (1, 4)\t5.0\n",
      "  (1, 6)\t7.0\n",
      "  (2, 2)\t4.0\n",
      "  (2, 6)\t8.0\n",
      "  (4, 2)\t6.0\n",
      "  (5, 1)\t6.0\n",
      "  (5, 4)\t9.0\n",
      "[[ 0.  0.  0.  3.  0.  0.  0.]\n",
      " [ 0.  0.  0.  0.  5.  0.  7.]\n",
      " [ 0.  0.  4.  0.  0.  0.  8.]\n",
      " [ 0.  0.  0.  0.  0.  0.  0.]\n",
      " [ 0.  0.  6.  0.  0.  0.  0.]\n",
      " [ 0.  6.  0.  0.  9.  0.  0.]\n",
      " [ 0.  0.  0.  0.  0.  0.  0.]]\n"
     ]
    }
   ],
   "source": [
    "# Creating An Empty List-in-List (LIL) Matrix And Adding Items In A 7 x 7 Size Array.\n",
    "lil = sparse.lil_matrix((7,7))\n",
    "\n",
    "# Sample Out Random Element Values At And Between i[0] And i[6] Up To 8 x 2 Samples. \n",
    "for i, j in np.random.randint(0, 7, (8, 2)):\n",
    "    lil[i, j] = i + j\n",
    "\n",
    "print (lil)\n",
    "\n",
    "# Convert LIL to an Array\n",
    "print (lil.toarray())"
   ]
  },
  {
   "cell_type": "code",
   "execution_count": 12,
   "metadata": {
    "collapsed": false
   },
   "outputs": [
    {
     "name": "stdout",
     "output_type": "stream",
     "text": [
      "  (0, 3)\t3.0\n",
      "  (1, 4)\t5.0\n",
      "  (1, 6)\t7.0\n",
      "  (2, 2)\t4.0\n",
      "  (2, 6)\t8.0\n",
      "  (4, 2)\t6.0\n",
      "  (5, 1)\t6.0\n",
      "  (5, 4)\t9.0\n"
     ]
    }
   ],
   "source": [
    "# Converting Lil Matrix To Csr Format For Scikit-Learn Algorithms\n",
    "lil_csr = lil.tocsr()\n",
    "print(lil_csr)"
   ]
  }
 ],
 "metadata": {
  "kernelspec": {
   "display_name": "Python 3",
   "language": "python",
   "name": "python3"
  },
  "language_info": {
   "codemirror_mode": {
    "name": "ipython",
    "version": 3
   },
   "file_extension": ".py",
   "mimetype": "text/x-python",
   "name": "python",
   "nbconvert_exporter": "python",
   "pygments_lexer": "ipython3",
   "version": "3.6.0"
  }
 },
 "nbformat": 4,
 "nbformat_minor": 2
}
