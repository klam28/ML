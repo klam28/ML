{
 "cells": [
  {
   "cell_type": "markdown",
   "metadata": {},
   "source": [
    "# Join"
   ]
  },
  {
   "cell_type": "code",
   "execution_count": 53,
   "metadata": {
    "collapsed": true
   },
   "outputs": [],
   "source": [
    "import numpy as np"
   ]
  },
  {
   "cell_type": "code",
   "execution_count": 54,
   "metadata": {
    "collapsed": false
   },
   "outputs": [
    {
     "name": "stdout",
     "output_type": "stream",
     "text": [
      "Join A Sentence Together.\n"
     ]
    }
   ],
   "source": [
    "# join Function Joins Key-Values into a Single String\n",
    "join_something = \" \"\n",
    "sequence = (\"Join\", \"A\", \"Sentence\", \"Together.\"); \n",
    "print (join_something.join(sequence))"
   ]
  },
  {
   "cell_type": "markdown",
   "metadata": {},
   "source": [
    "# Enumerate Function\n",
    "- Assigns an iterable count to an item in list and creates a tuple."
   ]
  },
  {
   "cell_type": "code",
   "execution_count": 55,
   "metadata": {
    "collapsed": false
   },
   "outputs": [
    {
     "name": "stdout",
     "output_type": "stream",
     "text": [
      "[(0, 'A'), (1, 'B'), (2, 'C'), (3, 'D'), (4, 'E'), (5, 'F'), (6, 'G')]\n"
     ]
    }
   ],
   "source": [
    "alphabet = ['A', 'B', 'C', 'D', 'E', \"F\", \"G\"]\n",
    "# Creates a List of Tuples\n",
    "print(list(enumerate(alphabet)))"
   ]
  },
  {
   "cell_type": "code",
   "execution_count": 56,
   "metadata": {
    "collapsed": false
   },
   "outputs": [
    {
     "name": "stdout",
     "output_type": "stream",
     "text": [
      "0  =  A\n",
      "1  =  B\n",
      "2  =  C\n",
      "3  =  D\n",
      "4  =  E\n",
      "5  =  F\n",
      "6  =  G\n"
     ]
    }
   ],
   "source": [
    "# We may easily change the start count/index with help of enumerate(sequence, start=0)\n",
    "for letter, index_number in enumerate(alphabet, start = 0):\n",
    "    print (letter,\" = \", index_number)"
   ]
  },
  {
   "cell_type": "code",
   "execution_count": 57,
   "metadata": {
    "collapsed": false
   },
   "outputs": [
    {
     "name": "stdout",
     "output_type": "stream",
     "text": [
      "-6  =  A\n",
      "-5  =  B\n",
      "-4  =  C\n",
      "-3  =  D\n",
      "-2  =  E\n",
      "-1  =  F\n",
      "0  =  G\n"
     ]
    }
   ],
   "source": [
    "for letter, index_number in enumerate(alphabet, -6):\n",
    "    print (letter,\" = \", index_number)"
   ]
  },
  {
   "cell_type": "markdown",
   "metadata": {},
   "source": [
    "# Zip and Tuples"
   ]
  },
  {
   "cell_type": "code",
   "execution_count": 58,
   "metadata": {
    "collapsed": false
   },
   "outputs": [
    {
     "name": "stdout",
     "output_type": "stream",
     "text": [
      "[[ 0.2106692   0.83733984  0.22176686  0.73692719  0.01881611  0.40755893\n",
      "   0.86244097]]\n"
     ]
    }
   ],
   "source": [
    "data = np.random.random(7)\n",
    "data = data[np.newaxis, :]\n",
    "print(data)\n",
    "symbol = \" | \"\n",
    "list_ = ['A', 'B', 'C', 'D', 'E', 'F', 'G']"
   ]
  },
  {
   "cell_type": "code",
   "execution_count": 59,
   "metadata": {
    "collapsed": false
   },
   "outputs": [
    {
     "name": "stdout",
     "output_type": "stream",
     "text": [
      "A ~ 0.21067  | B ~ 0.83734  | C ~ 0.22177  | D ~ 0.73693  | E ~ 0.01882  | F ~ 0.40756  | G ~ 0.86244 \n"
     ]
    }
   ],
   "source": [
    "for item in data: # For Each Index Element in 2D Array\n",
    "    print (symbol.join(\"%s ~ %.5f \" % (a, b) for a,b in zip(list_, item)))"
   ]
  },
  {
   "cell_type": "code",
   "execution_count": 60,
   "metadata": {
    "collapsed": false
   },
   "outputs": [
    {
     "name": "stdout",
     "output_type": "stream",
     "text": [
      "[(10, 'A', 'A', 'A'), (11, 'B', 'B', 'B'), (12, 'C', 'C', 'C'), (13, 'D', 'D', 'D'), (14, 'E', 'E', 'E'), (15, 'F', 'F', 'F'), (16, 'G', 'G', 'G')]\n"
     ]
    }
   ],
   "source": [
    "value = [10,11,12,13,14,15,16]\n",
    "x = zip(value, list_, list_, list_)\n",
    "# Returns Iterables of Tuples Through Merging Data\n",
    "print(list(x))\n",
    "# Prints a List of the Tuples"
   ]
  },
  {
   "cell_type": "markdown",
   "metadata": {},
   "source": [
    "# Convert List to Array"
   ]
  },
  {
   "cell_type": "code",
   "execution_count": 79,
   "metadata": {
    "collapsed": true
   },
   "outputs": [],
   "source": [
    "letters = ['A', 'B', 'C', 'D', 'E', 'F', 'G']\n",
    "values = [10,11,12,13,14,15,16]"
   ]
  },
  {
   "cell_type": "code",
   "execution_count": 80,
   "metadata": {
    "collapsed": false
   },
   "outputs": [
    {
     "name": "stdout",
     "output_type": "stream",
     "text": [
      "[(10, 'A'), (11, 'B'), (12, 'C'), (13, 'D'), (14, 'E'), (15, 'F'), (16, 'G')]\n"
     ]
    }
   ],
   "source": [
    "x = zip(values, letters)\n",
    "x = list(x)\n",
    "print(x)"
   ]
  },
  {
   "cell_type": "code",
   "execution_count": 81,
   "metadata": {
    "collapsed": false
   },
   "outputs": [],
   "source": [
    "x = np.array(x)"
   ]
  },
  {
   "cell_type": "code",
   "execution_count": 87,
   "metadata": {
    "collapsed": false
   },
   "outputs": [
    {
     "name": "stdout",
     "output_type": "stream",
     "text": [
      "['10' '11' '12' '13' '14' '15' '16']\n"
     ]
    }
   ],
   "source": [
    "print(x[:,0])"
   ]
  },
  {
   "cell_type": "code",
   "execution_count": 88,
   "metadata": {
    "collapsed": false
   },
   "outputs": [
    {
     "name": "stdout",
     "output_type": "stream",
     "text": [
      "['A' 'B' 'C' 'D' 'E' 'F' 'G']\n"
     ]
    }
   ],
   "source": [
    "print(x[:,1])"
   ]
  }
 ],
 "metadata": {
  "kernelspec": {
   "display_name": "Python 3",
   "language": "python",
   "name": "python3"
  },
  "language_info": {
   "codemirror_mode": {
    "name": "ipython",
    "version": 3
   },
   "file_extension": ".py",
   "mimetype": "text/x-python",
   "name": "python",
   "nbconvert_exporter": "python",
   "pygments_lexer": "ipython3",
   "version": "3.6.0"
  }
 },
 "nbformat": 4,
 "nbformat_minor": 2
}
