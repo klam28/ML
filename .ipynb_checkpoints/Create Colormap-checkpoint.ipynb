{
 "cells": [
  {
   "cell_type": "markdown",
   "metadata": {},
   "source": [
    "Notes: A color map is an row x 3 matrix of real numbers between 0.0\n",
    "and 1.0. Each Row is an RGB vector defining one color. The kth row\n",
    "of the colormap defines the kth color:\n",
    "Where, \n",
    "map(k,:) = ([r(k),g(k),b(k)]) \n",
    "specifies the intensity of red, green and blue."
   ]
  },
  {
   "cell_type": "markdown",
   "metadata": {},
   "source": [
    "http://pyhogs.github.io/colormap-examples.html\n",
    "\n",
    "http://scipy.github.io/old-wiki/pages/Cookbook/Matplotlib/Show_colormaps#CA-b2d25eb121f1afb6f3314933124bc72026110106_10\n",
    "\n",
    "Creating Your Own Color Map Using plt.colors.LinearSegmentedColormap\n",
    "\n",
    "First, create a script that will map the range (0,1) to values in the RGB spectrum. In this dictionary, you will have a series of tuples for each color 'red', 'green', and 'blue'. The first elements in each of these color series needs to be ordered from 0 to 1, with arbitrary spacing inbetween. Now, consider (0.5, 1.0, 0.7) in the 'red' series below. This tuple says that at 0.5 in the range from (0,1) , interpolate from below to 1.0, and above from 0.7. Often, the second two values in each tuple will be the same, but using different values is helpful for putting breaks in your colormap. \n",
    "\n",
    "There Are Two Ways To Create A ColorMaps:\n",
    "- LinearSegmentColormap for your own custom map (Best To Understand Color Theory)\n",
    "- LinearSegmentColormap.from_list() method for exististing RGB colors"
   ]
  },
  {
   "cell_type": "code",
   "execution_count": 1,
   "metadata": {
    "collapsed": true
   },
   "outputs": [],
   "source": [
    "import matplotlib\n",
    "import matplotlib.colors as color\n",
    "import matplotlib.cm as cm\n",
    "import matplotlib.pyplot as plt\n",
    "import numpy as np\n",
    "%matplotlib inline"
   ]
  },
  {
   "cell_type": "code",
   "execution_count": 2,
   "metadata": {
    "collapsed": true
   },
   "outputs": [],
   "source": [
    "a = np.array([0,1,2,3,4])\n",
    "b = np.array([4,3,2,1,0])\n",
    "\n",
    "target = np.array([0,1,2,3,4])\n",
    "numbers = np.array([a,b])\n",
    "numbers = numbers.T"
   ]
  },
  {
   "cell_type": "code",
   "execution_count": 3,
   "metadata": {
    "collapsed": false
   },
   "outputs": [],
   "source": [
    "\"\"\"Creating Your Own ColorMap: Set cmap = cmap1\"\"\"\n",
    "\n",
    "colordict = {'red': ((0.0, 0.1, 0.4),\n",
    "                     (0.5, 0.2, 0.5),\n",
    "                     (1.0, 0.2, 0.9)),\n",
    "         'green': ((0.0, 0.2, 1.0),\n",
    "                   (0.5, 0.5, 0.7),\n",
    "                   (1.0, 0.0, 0.0)),\n",
    "         'blue': ((0.0, 0.3, 1.0),\n",
    "                  (0.5, 0.2, 0.4),\n",
    "                  (1.0, 0.2, 0.6))}\n",
    "cmap1 = color.LinearSegmentedColormap('my_colormap',colordict,N=256,gamma=0.75)\n",
    "cm.register_cmap(name='own1', cmap=cmap1)"
   ]
  },
  {
   "cell_type": "code",
   "execution_count": 4,
   "metadata": {
    "collapsed": false
   },
   "outputs": [
    {
     "data": {
      "image/png": "[encoded data removed]",
      "text/plain": [
       "<matplotlib.figure.Figure at 0x10b48cbe0>"
      ]
     },
     "metadata": {},
     "output_type": "display_data"
    }
   ],
   "source": [
    "plt.scatter(a,b, c = target[:,],cmap = cmap1)\n",
    "plt.colorbar(ticks = [0,1,2,3,4])\n",
    "plt.show()"
   ]
  },
  {
   "cell_type": "code",
   "execution_count": 5,
   "metadata": {
    "collapsed": false
   },
   "outputs": [
    {
     "data": {
      "image/png": "[encoded data removed]",
      "text/plain": [
       "<matplotlib.figure.Figure at 0x10b662f98>"
      ]
     },
     "metadata": {},
     "output_type": "display_data"
    }
   ],
   "source": [
    "\"\"\"Use Colors Using fromList() method. Takes In RGB Values\"\"\"  \n",
    "# http://www.rapidtables.com/web/color/RGB_Color.htm\n",
    "# List of RGB Colors\n",
    "startcolor = '#800000'  # maroon\n",
    "midcolor = '#00FFFF'    # aqua\n",
    "endcolor = '#000000'    # white\n",
    "cmap2 = color.LinearSegmentedColormap.from_list('name',[startcolor,midcolor,endcolor], N=256, gamma=1)\n",
    "cm.register_cmap(name='name',cmap=cmap2)\n",
    "\n",
    "\"\"\"Set cmap = cmap2\"\"\"\n",
    "plt.scatter(a,b, c = target[:,],cmap = cmap2)\n",
    "plt.colorbar(ticks = [0,1,2,3,4])\n",
    "plt.show()"
   ]
  },
  {
   "cell_type": "code",
   "execution_count": 6,
   "metadata": {
    "collapsed": false
   },
   "outputs": [],
   "source": [
    "# from pylab import *\n",
    "# from numpy import outer\n",
    "# rc('text', usetex=False)\n",
    "# a=outer(arange(0,1,0.01),ones(10))\n",
    "# figure(figsize=(10,5))\n",
    "# subplots_adjust(top=0.8,bottom=0.05,left=0.01,right=0.99)\n",
    "# maps=[m for m in cm.datad if not m.endswith(\"_r\")]\n",
    "# maps.sort()\n",
    "# l=len(maps)+1\n",
    "# for i, m in enumerate(maps):\n",
    "#     subplot(1,l,i+1)\n",
    "#     axis(\"off\")\n",
    "#     imshow(a,aspect='auto',cmap=get_cmap(m),origin=\"lower\")\n",
    "#     title(m,rotation=90,fontsize=10)\n",
    "# # savefig(\"colormaps.png\",dpi=100,facecolor='gray')"
   ]
  }
 ],
 "metadata": {
  "kernelspec": {
   "display_name": "Python 3",
   "language": "python",
   "name": "python3"
  },
  "language_info": {
   "codemirror_mode": {
    "name": "ipython",
    "version": 3
   },
   "file_extension": ".py",
   "mimetype": "text/x-python",
   "name": "python",
   "nbconvert_exporter": "python",
   "pygments_lexer": "ipython3",
   "version": "3.6.0"
  }
 },
 "nbformat": 4,
 "nbformat_minor": 2
}
