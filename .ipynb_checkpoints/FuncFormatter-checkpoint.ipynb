{
 "cells": [
  {
   "cell_type": "markdown",
   "metadata": {},
   "source": [
    "https://github.com/ogrisel/sklearn_pycon2014/tree/master/notebooks\n",
    "02_data_representation.ipynb"
   ]
  },
  {
   "cell_type": "code",
   "execution_count": 1,
   "metadata": {
    "collapsed": false
   },
   "outputs": [],
   "source": [
    "from sklearn.datasets import load_iris\n",
    "iris = load_iris()"
   ]
  },
  {
   "cell_type": "code",
   "execution_count": 2,
   "metadata": {
    "collapsed": false
   },
   "outputs": [
    {
     "data": {
      "text/plain": [
       "'Information Inside Dataset. Use Variable Storing Our Data And Call These Keys For More Information On The Data'"
      ]
     },
     "execution_count": 2,
     "metadata": {},
     "output_type": "execute_result"
    }
   ],
   "source": [
    "iris.keys() \n",
    "\"\"\"Information Inside Dataset. Use Variable Storing Our Data And Call These Keys For More Information On The Data\"\"\""
   ]
  },
  {
   "cell_type": "code",
   "execution_count": 3,
   "metadata": {
    "collapsed": false
   },
   "outputs": [],
   "source": [
    "# print(iris.data)\n",
    "# print(iris.target)\n",
    "# print(iris.target_names)\n",
    "# print(iris.DESCR) # Description Of Data\n",
    "# print(iris.feature_names)"
   ]
  },
  {
   "cell_type": "code",
   "execution_count": 4,
   "metadata": {
    "collapsed": false
   },
   "outputs": [
    {
     "name": "stdout",
     "output_type": "stream",
     "text": [
      "(150, 4)\n",
      "(150,)\n"
     ]
    }
   ],
   "source": [
    "print(iris.data.shape)\n",
    "print (iris.target.shape)"
   ]
  },
  {
   "cell_type": "code",
   "execution_count": 5,
   "metadata": {
    "collapsed": false
   },
   "outputs": [],
   "source": [
    "# iris.target.reshape(1,-1) # Convert To Multidimensional Array\n",
    "# iris.target.reshape(-1,1) # Convert To Single Column"
   ]
  },
  {
   "cell_type": "markdown",
   "metadata": {
    "collapsed": false
   },
   "source": [
    "# Preview of Dimensionality Reduction: \n",
    "Dataset is 4-dimensional, but we visulize two of the dimensions at a time using a scatterplot."
   ]
  },
  {
   "cell_type": "code",
   "execution_count": 6,
   "metadata": {
    "collapsed": false
   },
   "outputs": [
    {
     "data": {
      "text/plain": [
       "'Creating an Iris Plot Where It Takes In Two Features Of The Iris Flowers. We Assign Each Flower Its Own Individual Color And We Create A Color Bar To Show What Each Color Represents:\\n- The FuncFormatter Function Takes In A Variable Number Argument. We Use The Single * To Indicate That It Will Pass Will Pass Through A Variable Number Of Arguments, Where Variable Number Means We Do Not Yet Know How Many Arguments Will Be Passed. Later, We Will Pass On The Target Values 0,1,2 Which Will Point To Setosa, Versicolor, and Virginica, Respectively. To Use Our FuncFormatter Function We First Need To Create A Plot. This Plot Will Take In Two Arguments or Two Features Of The Iris Flowers, And c Will Be Set To iris.target, So Random Colors Will Be Assigned To Distinguish Each Of The 3 Flowers. We Then Use plt.colorbar To Pass Arguments Into Our Formatter. Ticks Is Set To 0,1, and 2Which are Associated With Setosa For 0, Versicolor For 1, and Virginica For 3. By Passing These 3 Values It Will Display The Name Associated With The Value Note: By Removing A Value In Ticks, It Will Remove The Name In The Colorbar As It Is Missing\\nThe Value Associated With That Value.'"
      ]
     },
     "execution_count": 6,
     "metadata": {},
     "output_type": "execute_result"
    },
    {
     "data": {
      "image/png": "[encoded data removed]",
      "text/plain": [
       "<matplotlib.figure.Figure at 0x10c8e8b70>"
      ]
     },
     "metadata": {},
     "output_type": "display_data"
    }
   ],
   "source": [
    "%matplotlib inline\n",
    "import numpy as np\n",
    "import matplotlib.pyplot as plt\n",
    "\n",
    "def iris_plot(feature_x, feature_y):\n",
    "    # plt.FuncFormatter ~ Takes In The Target Names Of The Iris Data As Its Positional Argument\n",
    "    formatter = plt.FuncFormatter(lambda i, *args: iris.target_names[(i)])\n",
    "    \n",
    "    \n",
    "    # Create A Mappable: Scatter Plot With Data From 2 Features And Apply FuncFormatter To The Plot\n",
    "    plt.scatter(iris.data[:, feature_x], iris.data[:,feature_y], c = iris.target)\n",
    "    # Setting c To The Target Values Of The Iris Data Will Assign Each Of The 3 Targets With Its Own Individual Color\n",
    "    # This Will Allow Us To Visualize The Clustering Of The 2 Of The Irises' Features\n",
    "    \n",
    "    plt.colorbar(ticks = [0, 1, 2], format = formatter)\n",
    "    # Colorbar Takes A Positional Argument. We Set Format To Our Formatter Function To Display The Target's Names\n",
    "    # Ticks Takes In Arguments Associated With The Target Values Of Our Data. These Ticks Points To The Names In Our\n",
    "    # Formatter. Instead Of Having Values Displayed On Our Color Bar It Will Display As The Target Names\n",
    "    # 0 - Setosa\n",
    "    # 1 - Versicolor\n",
    "    # 2 - Virginica\n",
    "      \n",
    "    plt.xlabel(iris.feature_names[feature_x])\n",
    "    plt.ylabel(iris.feature_names[feature_y])\n",
    "    \n",
    "# Use 2 Features From Data For Our iris_plot Function (0-3)\n",
    "\n",
    "iris_plot(0, 2) \n",
    "\n",
    "# 0 - sepal length (cm) \n",
    "# 1 - sepal width (cm)  \n",
    "# 2 - petal length (cm) \n",
    "# 3 - petal width (cm)\n",
    "\n",
    "\"\"\"Creating an Iris Plot Where It Takes In Two Features Of The Iris Flowers. We Assign Each Flower Its Own Individual \\\n",
    "Color And We Create A Color Bar To Show What Each Color Represents:\n",
    "- The FuncFormatter Function Takes In A Variable Number Argument. We Use The Single * To \\\n",
    "Indicate That It Will Pass Will Pass Through A Variable Number Of Arguments, Where \\\n",
    "Variable Number Means We Do Not Yet Know How Many Arguments Will Be Passed. Later, We Will \\\n",
    "Pass On The Target Values 0,1,2 Which Will Point To Setosa, Versicolor, and Virginica, \\\n",
    "Respectively. To Use Our FuncFormatter Function We First Need To Create A Plot. This Plot \\\n",
    "Will Take In Two Arguments or Two Features Of The Iris Flowers, And c Will Be Set To \\\n",
    "iris.target, So Random Colors Will Be Assigned To Distinguish Each Of The 3 Flowers. \\\n",
    "We Then Use plt.colorbar To Pass Arguments Into Our Formatter. Ticks Is Set To 0,1, and 2\\\n",
    "Which are Associated With Setosa For 0, Versicolor For 1, and Virginica For 3. By Passing These \\\n",
    "3 Values It Will Display The Name Associated With The Value \\\n",
    "Note: By Removing A Value In Ticks, It Will Remove The Name In The Colorbar As It Is Missing\n",
    "The Value Associated With That Value.\"\"\""
   ]
  },
  {
   "cell_type": "code",
   "execution_count": 7,
   "metadata": {
    "collapsed": false
   },
   "outputs": [
    {
     "data": {
      "text/plain": [
       "array(['setosa', 'versicolor', 'virginica'], \n",
       "      dtype='<U10')"
      ]
     },
     "execution_count": 7,
     "metadata": {},
     "output_type": "execute_result"
    }
   ],
   "source": [
    "iris.target\n",
    "iris.target_names"
   ]
  },
  {
   "cell_type": "markdown",
   "metadata": {},
   "source": [
    "# Plotting Numbers With Colormaps"
   ]
  },
  {
   "cell_type": "code",
   "execution_count": 8,
   "metadata": {
    "collapsed": false
   },
   "outputs": [],
   "source": [
    "import numpy as np\n",
    "import pandas as pd\n",
    "import matplotlib.pyplot as plt\n",
    "u = np.array([0,0])\n",
    "v = np.array([1,1])\n",
    "w = np.array([2,2])\n",
    "x = np.array([3,3])\n",
    "y = np.array([4,4])\n",
    "z = np.array([5,5])\n",
    "\n",
    "number_names = np.array(['zero', 'one','two','three','four','five'])\n",
    "target = np.array([0,1,2,3,4,5])\n",
    "numbers = np.array([u,v,w,x,y,z])\n",
    "numbers = numbers.T"
   ]
  },
  {
   "cell_type": "code",
   "execution_count": 9,
   "metadata": {
    "collapsed": false
   },
   "outputs": [
    {
     "name": "stdout",
     "output_type": "stream",
     "text": [
      "target: [0 1 2 3 4 5]\n",
      "names: ['zero' 'one' 'two' 'three' 'four' 'five']\n",
      "numbers: [[0 1 2 3 4 5]\n",
      " [0 1 2 3 4 5]]\n"
     ]
    }
   ],
   "source": [
    "print(\"target:\", target)\n",
    "print(\"names:\",number_names)\n",
    "print(\"numbers:\",numbers)"
   ]
  },
  {
   "cell_type": "code",
   "execution_count": 10,
   "metadata": {
    "collapsed": false
   },
   "outputs": [
    {
     "data": {
      "text/plain": [
       "(6,)"
      ]
     },
     "execution_count": 10,
     "metadata": {},
     "output_type": "execute_result"
    }
   ],
   "source": [
    "target.shape"
   ]
  },
  {
   "cell_type": "code",
   "execution_count": 11,
   "metadata": {
    "collapsed": false
   },
   "outputs": [
    {
     "data": {
      "text/plain": [
       "(2, 6)"
      ]
     },
     "execution_count": 11,
     "metadata": {},
     "output_type": "execute_result"
    }
   ],
   "source": [
    "numbers.shape"
   ]
  },
  {
   "cell_type": "code",
   "execution_count": 12,
   "metadata": {
    "collapsed": false
   },
   "outputs": [],
   "source": [
    "a = numbers[0]\n",
    "b = numbers[1]"
   ]
  },
  {
   "cell_type": "code",
   "execution_count": 13,
   "metadata": {
    "collapsed": false
   },
   "outputs": [
    {
     "data": {
      "image/png": "[encoded data removed]",
      "text/plain": [
       "<matplotlib.figure.Figure at 0x10bbfa588>"
      ]
     },
     "metadata": {},
     "output_type": "display_data"
    }
   ],
   "source": [
    "def number_plot(numbers):\n",
    "  \n",
    "    formatter = plt.FuncFormatter(lambda i, *args: number_names[(i)])\n",
    "    \n",
    "    # Create A Mappable: Scatter Plot With Data From 2 Features And Apply FuncFormatter To The Plot\n",
    "    plt.scatter(numbers[0], numbers[1], c = target[:,])\n",
    "    # Setting c To The Target Values Of The Iris Data Will Assign Each Of The 3 Targets With Its Own Individual Color\n",
    "    # This Will Allow Us To Visualize The Clustering Of The 2 Of The Irises' Features\n",
    "    \n",
    "    plt.colorbar(ticks = [0,1,2,3,4,5], format = formatter)\n",
    "    # Colorbar Takes A Positional Argument. We Set Format To Our Formatter Function To Display The Target's Names\n",
    "    # Ticks Takes In Arguments Associated With The Target Values Of Our Data. These Ticks Points To The Names In Our\n",
    "    # Formatter. Instead Of Having Values Displayed On Our Color Bar It Will Display As The Target Names\n",
    "    # 0 - Setosa\n",
    "    # 1 - Versicolor\n",
    "    # 2 - Virginica\n",
    "number_plot(numbers)"
   ]
  }
 ],
 "metadata": {
  "kernelspec": {
   "display_name": "Python 3",
   "language": "python",
   "name": "python3"
  },
  "language_info": {
   "codemirror_mode": {
    "name": "ipython",
    "version": 3
   },
   "file_extension": ".py",
   "mimetype": "text/x-python",
   "name": "python",
   "nbconvert_exporter": "python",
   "pygments_lexer": "ipython3",
   "version": "3.6.0"
  }
 },
 "nbformat": 4,
 "nbformat_minor": 2
}
