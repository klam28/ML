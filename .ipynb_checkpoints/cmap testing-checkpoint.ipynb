{
 "cells": [
  {
   "cell_type": "markdown",
   "metadata": {},
   "source": [
    "# Plotting Numbers With Colormaps"
   ]
  },
  {
   "cell_type": "code",
   "execution_count": 14,
   "metadata": {
    "collapsed": false
   },
   "outputs": [],
   "source": [
    "import numpy as np\n",
    "import pandas as pd\n",
    "import matplotlib.pyplot as plt\n",
    "a = np.array([0,0])\n",
    "b = np.array([1,1])\n",
    "c = np.array([2,2])\n",
    "d = np.array([3,3])\n",
    "e = np.array([4,4])\n",
    "f = np.array([5,5])\n",
    "\n",
    "number_names = np.array(['a', 'b','c','d','e','f'])\n",
    "target = np.array([0,1,2,3,4,5])\n",
    "numbers = np.array([a,b,c,d,e,f])\n",
    "numbers = numbers.T"
   ]
  },
  {
   "cell_type": "code",
   "execution_count": 15,
   "metadata": {
    "collapsed": false
   },
   "outputs": [
    {
     "name": "stdout",
     "output_type": "stream",
     "text": [
      "target: [0 1 2 3 4 5]\n",
      "names: ['a' 'b' 'c' 'd' 'e' 'f']\n",
      "numbers:\n",
      " [[0 1 2 3 4 5]\n",
      " [0 1 2 3 4 5]]\n"
     ]
    }
   ],
   "source": [
    "print(\"target:\", target)\n",
    "print(\"names:\",number_names)\n",
    "print(\"numbers:\"\"\\n\",numbers)"
   ]
  },
  {
   "cell_type": "code",
   "execution_count": 16,
   "metadata": {
    "collapsed": false
   },
   "outputs": [],
   "source": [
    "a = numbers[0]\n",
    "b = numbers[1]"
   ]
  },
  {
   "cell_type": "code",
   "execution_count": 25,
   "metadata": {
    "collapsed": false
   },
   "outputs": [
    {
     "data": {
      "image/png": "[encoded data removed]",
      "text/plain": [
       "<matplotlib.figure.Figure at 0x113922470>"
      ]
     },
     "metadata": {},
     "output_type": "display_data"
    }
   ],
   "source": [
    "def number_plot(numbers):\n",
    "  \n",
    "    plt.scatter(numbers[0], numbers[1], c = target[:,], cmap = plt.cm.winter) ###\n",
    "    plt.colorbar(ticks = [0,1,2,3,4,5])\n",
    "    \n",
    "number_plot(numbers)\n",
    "plt.show()"
   ]
  },
  {
   "cell_type": "code",
   "execution_count": 60,
   "metadata": {
    "collapsed": false
   },
   "outputs": [
    {
     "data": {
      "image/png": "[encoded data removed]",
      "text/plain": [
       "<matplotlib.figure.Figure at 0x113481d30>"
      ]
     },
     "metadata": {},
     "output_type": "display_data"
    }
   ],
   "source": [
    "plt.scatter(numbers[0], numbers[1], c = target[:,], cmap = plt.cm.winter)\n",
    "plt.colorbar(ticks = [0,1,2,3,4,5])\n",
    "plt.show()\n",
    "\n",
    "# "
   ]
  },
  {
   "cell_type": "code",
   "execution_count": 69,
   "metadata": {
    "collapsed": true
   },
   "outputs": [],
   "source": [
    "import matplotlib\n",
    "import matplotlib.colors as color\n",
    "import matplotlib.cm as cm\n",
    "import matplotlib.pyplot as plt\n",
    "import numpy as np\n",
    "\n",
    "def register_own_cmaps():\n",
    "    cdict = {'red': ((0.0, 0.0, 0.0),\n",
    "                     (0.3, 0.5, 0.5),\n",
    "                     (0.6, 0.7, 0.7),\n",
    "                     (0.9, 0.8, 0.8),\n",
    "                     (1.0, 0.8, 0.8)),\n",
    "         'green': ((0.0, 0.0, 0.0),\n",
    "                   (0.3, 0.8, 0.8),\n",
    "                   (0.6, 0.7, 0.7),\n",
    "                   (0.9, 0.0, 0.0),\n",
    "                   (1.0, 0.7, 0.7)),\n",
    "         'blue': ((0.0, 1.0, 1.0),\n",
    "                  (0.3, 1.0, 1.0),\n",
    "                  (0.6, 0.0, 0.0),\n",
    "                  (0.9, 0.0, 0.0), \n",
    "                  (1.0, 1.0, 1.0))}\n",
    "    cmap = col.LinearSegmentedColormap('my_colormap',cdict,N=256,gamma=0.75)\n",
    "    cm.register_cmap(name='own1', cmap=cmap)"
   ]
  },
  {
   "cell_type": "code",
   "execution_count": 70,
   "metadata": {
    "collapsed": false
   },
   "outputs": [
    {
     "data": {
      "image/png": "[encoded data removed]",
      "text/plain": [
       "<matplotlib.figure.Figure at 0x11439e278>"
      ]
     },
     "metadata": {},
     "output_type": "display_data"
    }
   ],
   "source": [
    "plt.scatter(a,b, c = target[:,],cmap = cmap)\n",
    "plt.colorbar(ticks = [0,1,2,3,4])\n",
    "plt.show()"
   ]
  },
  {
   "cell_type": "code",
   "execution_count": null,
   "metadata": {
    "collapsed": true
   },
   "outputs": [],
   "source": []
  }
 ],
 "metadata": {
  "kernelspec": {
   "display_name": "Python 3",
   "language": "python",
   "name": "python3"
  },
  "language_info": {
   "codemirror_mode": {
    "name": "ipython",
    "version": 3
   },
   "file_extension": ".py",
   "mimetype": "text/x-python",
   "name": "python",
   "nbconvert_exporter": "python",
   "pygments_lexer": "ipython3",
   "version": "3.6.0"
  }
 },
 "nbformat": 4,
 "nbformat_minor": 2
}
