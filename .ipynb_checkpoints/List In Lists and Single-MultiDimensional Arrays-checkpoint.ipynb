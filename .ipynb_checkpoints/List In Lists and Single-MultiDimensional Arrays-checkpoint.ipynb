{
 "cells": [
  {
   "cell_type": "markdown",
   "metadata": {},
   "source": [
    "# Single vs MultiDimensional Arrays"
   ]
  },
  {
   "cell_type": "code",
   "execution_count": 11,
   "metadata": {
    "collapsed": true
   },
   "outputs": [],
   "source": [
    "import numpy as np"
   ]
  },
  {
   "cell_type": "code",
   "execution_count": 12,
   "metadata": {
    "collapsed": false
   },
   "outputs": [
    {
     "name": "stdout",
     "output_type": "stream",
     "text": [
      "1D_Array: (6,)\n",
      "2D_Array: (6, 1)\n",
      "3D_Array: (6, 1, 1)\n",
      "4D_Array: (6, 1, 1, 1)\n"
     ]
    }
   ],
   "source": [
    "array = np.array([0,1,2,3,4,5]) # 1 Dimensional Array\n",
    "print(\"1D_Array:\", array.shape)\n",
    "\n",
    "array_2D = array[:, np.newaxis] # 2 Dimensional Array\n",
    "print(\"2D_Array:\", array_2D.shape)\n",
    "\n",
    "array_3D = array[:, np.newaxis, np.newaxis] # 3 Dimensional Array\n",
    "print(\"3D_Array:\", array_3D.shape)\n",
    "\n",
    "array_4D = array[:, np.newaxis, np.newaxis, np.newaxis] # 4 Dimensional Array\n",
    "print(\"4D_Array:\", array_4D.shape)"
   ]
  },
  {
   "cell_type": "code",
   "execution_count": 13,
   "metadata": {
    "collapsed": false
   },
   "outputs": [
    {
     "data": {
      "text/plain": [
       "'Converts Into A One Dimensional Array'"
      ]
     },
     "execution_count": 13,
     "metadata": {},
     "output_type": "execute_result"
    }
   ],
   "source": [
    "squeeze_array = np.squeeze(array[:, np.newaxis, np.newaxis])\n",
    "squeeze_array.shape\n",
    "\n",
    "\"\"\"Converts Into A One Dimensional Array\"\"\""
   ]
  },
  {
   "cell_type": "code",
   "execution_count": 14,
   "metadata": {
    "collapsed": false
   },
   "outputs": [
    {
     "name": "stdout",
     "output_type": "stream",
     "text": [
      "[0 1 2 3 4 5]\n"
     ]
    }
   ],
   "source": [
    "print(array)"
   ]
  },
  {
   "cell_type": "code",
   "execution_count": 15,
   "metadata": {
    "collapsed": false
   },
   "outputs": [
    {
     "name": "stdout",
     "output_type": "stream",
     "text": [
      "[[0]\n",
      " [1]\n",
      " [2]\n",
      " [3]\n",
      " [4]\n",
      " [5]]\n"
     ]
    }
   ],
   "source": [
    "print(array_2D)"
   ]
  },
  {
   "cell_type": "code",
   "execution_count": 16,
   "metadata": {
    "collapsed": false
   },
   "outputs": [
    {
     "name": "stdout",
     "output_type": "stream",
     "text": [
      "[[0 1 2 3 4 5]]\n"
     ]
    }
   ],
   "source": [
    "print(array_2D.T) "
   ]
  },
  {
   "cell_type": "markdown",
   "metadata": {},
   "source": [
    "The (length,) array is an array where each element is a number and there are length elements in the array. The (length, 1) array is an 2-D array which also has length elements, but each element itself is its own array with a single element. \n",
    "\n",
    "https://www.oreilly.com/ideas/intro-to-scikit-learn\n",
    "- Target Array\n",
    "\n",
    "https://processing.org/tutorials/2darray/\n",
    "- First Paragraph\n",
    "\n",
    "(Length,) ~ We typically want to work with 1-Dimensional Target Arrays Which Have Continuous Numerical Values or Discrete Variables For Classes/Labels. \n",
    "- We can imagine a 1-D Target Array As A List Of Foods That We Eat. An example would be: \n",
    "[Pizza, Salad, Ice-Cream, Chicken, Potatoes, Noodles]\n",
    "- For 2D Arrays We Can Imagine A List Within A List:\n",
    "[[Pizza and Salad], [Ice-Cream and Chicken], [Potatoes and Noodles]]\n",
    "\n",
    "Working With Anymore Dimensions Will Be Difficult To Visualize Because Our Computer Screen Is\n",
    "Only 2 Dimensional"
   ]
  },
  {
   "cell_type": "markdown",
   "metadata": {},
   "source": [
    "# List In List Matrix"
   ]
  },
  {
   "cell_type": "code",
   "execution_count": 18,
   "metadata": {
    "collapsed": true
   },
   "outputs": [],
   "source": [
    "from scipy import sparse"
   ]
  },
  {
   "cell_type": "code",
   "execution_count": 19,
   "metadata": {
    "collapsed": false
   },
   "outputs": [
    {
     "name": "stdout",
     "output_type": "stream",
     "text": [
      "  (0, 1)\t1.0\n",
      "  (1, 2)\t3.0\n",
      "  (2, 0)\t2.0\n",
      "  (2, 2)\t4.0\n",
      "[[ 0.  1.  0.]\n",
      " [ 0.  0.  3.]\n",
      " [ 2.  0.  4.]]\n"
     ]
    }
   ],
   "source": [
    "'''CSR Representation Is Efficient For Computations, But Not Efficient For Adding Elements. \\\n",
    "Using The Lil (List-In-List) Representation Is Better'''\n",
    "\n",
    "# Creating An Empty List-in-List (LIL) Matrix And Adding Items In A 7 x 7 Size Array.\n",
    "# sparse.lil_matrix ~ Create A Sparse Matrix For A List in List\n",
    "list_in_list = sparse.lil_matrix((3,3))\n",
    "\n",
    "# Sample Out Random Element Values At And Between Low Int And High Int And Draw Out A Random X by 2 Matrix\n",
    "for i, j in np.random.randint(0, 3, (5, 2)): # Shape Of list_in_list\n",
    "    list_in_list[i, j] = i + j       \n",
    "\n",
    "\n",
    "print (list_in_list)\n",
    "\n",
    "# Converts our LIL with Elements To An Array\n",
    "print (list_in_list.toarray())"
   ]
  },
  {
   "cell_type": "markdown",
   "metadata": {},
   "source": [
    "List_in_List Matrix\n",
    "\n",
    "- sparse.lil_matrix((nrows,npoints)) ~ \n",
    "\n",
    "- For list_in_list: Creates An Empty List in List With nrows and npoints. This Will Create A Matrix With All Zeros. Then We Want To Add Random Elements Into Our Matrix. For i In Range (0, nrows) Of Our Empty Matrix, Use Random Positions In Our Matrix And Assign New Created Values To Them From j\n",
    "\n",
    "- For j (x,2_Columns), x Determines How Many Random Values We Want To Create: j Represents The Random Value (Other Than Zero) Inside The Matrix\n",
    "- For i In Range Int_Low, Int_High, Draw Random Positions In Matrix: i Represents The Position Of A Point Inside The Matrix\n",
    "- random.randint Creates Random Values Inside Our Matrix"
   ]
  }
 ],
 "metadata": {
  "kernelspec": {
   "display_name": "Python 3",
   "language": "python",
   "name": "python3"
  },
  "language_info": {
   "codemirror_mode": {
    "name": "ipython",
    "version": 3
   },
   "file_extension": ".py",
   "mimetype": "text/x-python",
   "name": "python",
   "nbconvert_exporter": "python",
   "pygments_lexer": "ipython3",
   "version": "3.6.0"
  }
 },
 "nbformat": 4,
 "nbformat_minor": 2
}
