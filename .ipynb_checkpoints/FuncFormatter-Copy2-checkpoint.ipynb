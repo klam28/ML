{
 "cells": [
  {
   "cell_type": "markdown",
   "metadata": {},
   "source": [
    "# Plotting Numbers With Colormaps"
   ]
  },
  {
   "cell_type": "code",
   "execution_count": 1,
   "metadata": {
    "collapsed": true
   },
   "outputs": [],
   "source": [
    "import matplotlib\n",
    "import matplotlib.colors as color\n",
    "import matplotlib.cm as cm\n",
    "import matplotlib.pyplot as plt\n",
    "import numpy as np\n",
    "%matplotlib inline"
   ]
  },
  {
   "cell_type": "code",
   "execution_count": 2,
   "metadata": {
    "collapsed": true
   },
   "outputs": [],
   "source": [
    "a1 = np.array([25,0])\n",
    "b1 = np.array([24,1])\n",
    "c1 = np.array([23,2])\n",
    "d1 = np.array([22,3])\n",
    "e1 = np.array([21,4])\n",
    "f1 = np.array([20,5])\n",
    "g1 = np.array([19,6])\n",
    "h1 = np.array([18,7])\n",
    "i1 = np.array([17,8])\n",
    "j1 = np.array([16,9])\n",
    "k1 = np.array([15,10])\n",
    "l1 = np.array([14,11])\n",
    "m1 = np.array([13,12])\n",
    "n1 = np.array([12,13])\n",
    "o1 = np.array([11,14])\n",
    "p1 = np.array([10,15])\n",
    "q1 = np.array([9,16])\n",
    "r1 = np.array([8,17])\n",
    "s1 = np.array([7,18])\n",
    "t1 = np.array([6,19])\n",
    "u1 = np.array([5,20])\n",
    "v1 = np.array([4,21])\n",
    "w1 = np.array([3,22])\n",
    "x1 = np.array([2,23])\n",
    "y1 = np.array([1,24])\n",
    "z1 = np.array([0,25])"
   ]
  },
  {
   "cell_type": "code",
   "execution_count": 3,
   "metadata": {
    "collapsed": false
   },
   "outputs": [],
   "source": [
    "import numpy as np\n",
    "import pandas as pd\n",
    "import matplotlib.pyplot as plt\n",
    "\n",
    "a = np.array([0,0])\n",
    "b = np.array([1,1])\n",
    "c = np.array([2,2])\n",
    "d = np.array([3,3])\n",
    "e = np.array([4,4])\n",
    "f = np.array([5,5])\n",
    "g = np.array([6,6])\n",
    "h = np.array([7,7])\n",
    "i = np.array([8,8])\n",
    "j = np.array([9,9])\n",
    "k = np.array([10,10])\n",
    "l = np.array([11,11])\n",
    "m = np.array([12,12])\n",
    "n = np.array([13,13])\n",
    "o = np.array([14,14])\n",
    "p = np.array([15,15])\n",
    "q = np.array([16,16])\n",
    "r = np.array([17,17])\n",
    "s = np.array([18,18])\n",
    "t = np.array([19,19])\n",
    "u = np.array([20,20])\n",
    "v = np.array([21,21])\n",
    "w = np.array([22,22])\n",
    "x = np.array([23,23])\n",
    "y = np.array([24,24])\n",
    "z = np.array([25,25])\n",
    "\n",
    "# number_names = np.array(['zero', 'one','two','three','four','five','six',\"seven\" ,\"eight\" \\\n",
    "#                          ,\"nine\" ,\"ten\" ,\"eleven\" ,\"twelve\" ,\"thirteen\" ,\"fourteen\",\"fifteen\"])\n",
    "\n",
    "number_names = np.array([\"a\",\"b\",\"c\",\"d\",\"e\",\"f\",\"g\",\"h\",\"i\",\"j\",\"k\",\"l\",\"m\", \\\n",
    "                         \"n\",\"o\",\"p\",\"q\",\"r\",\"s\",\"t\",\"u\",\"v\",\"w\",\"x\",\"y\",\"z\", \\\n",
    "                         \n",
    "                        \"a1\",\"b1\",\"c1\",\"d1\",\"e1\",\"f1\",\"g1\",\"h1\",\"i1\",\"j1\",\"k1\",\"l1\",\"m1\", \\\n",
    "                        \"n1\",\"o1\",\"p1\",\"q1\",\"r1\",\"s1\",\"t1\",\"u1\",\"v1\",\"w1\",\"x1\",\"y1\",\"z1\"\n",
    "                        ])\n",
    "target = np.array([0,1,2,3,4,5,6,7,8,9,10,11,12,13,14,15,16,17,18,19,20,21,22,23,24,25, \\\n",
    "                   26 , 27 ,28 ,29 ,30 ,31 ,32 ,33 ,34 ,35 ,36 ,37 ,38 ,39 , 40 ,41 ,42 ,43 ,44 ,45 ,46 ,47 ,48 ,49, 50, 51])\n",
    "numbers = np.array([a,b,c,d,e,f,g,h,i,j,k,l,m,n,o,p,q,r,s,t,u,v,w,x,y,z, \\\n",
    "                   a1,b1,c1,d1,e1,f1,g1,h1,i1,j1,k1,l1,m1,n1,o1,p1,q1,r1,s1,t1,u1,v1,w1,x1,y1,z1])\n",
    "numbers = numbers.T"
   ]
  },
  {
   "cell_type": "code",
   "execution_count": 4,
   "metadata": {
    "collapsed": false
   },
   "outputs": [],
   "source": [
    "# x = a1,b1,c1,d1,e1,f1,g1,h1,i1,j1,k1,l1,m1,n1,o1,p1,q1,r1,s1,t1,u1,v1,w1,x1,y1,z1"
   ]
  },
  {
   "cell_type": "code",
   "execution_count": 5,
   "metadata": {
    "collapsed": false
   },
   "outputs": [],
   "source": [
    "# for i in range(26,50):\n",
    "#     print(i,\",\")"
   ]
  },
  {
   "cell_type": "code",
   "execution_count": 6,
   "metadata": {
    "collapsed": false
   },
   "outputs": [
    {
     "name": "stdout",
     "output_type": "stream",
     "text": [
      "target: [ 0  1  2  3  4  5  6  7  8  9 10 11 12 13 14 15 16 17 18 19 20 21 22 23 24\n",
      " 25 26 27 28 29 30 31 32 33 34 35 36 37 38 39 40 41 42 43 44 45 46 47 48 49\n",
      " 50 51]\n",
      "names: ['a' 'b' 'c' 'd' 'e' 'f' 'g' 'h' 'i' 'j' 'k' 'l' 'm' 'n' 'o' 'p' 'q' 'r'\n",
      " 's' 't' 'u' 'v' 'w' 'x' 'y' 'z' 'a1' 'b1' 'c1' 'd1' 'e1' 'f1' 'g1' 'h1'\n",
      " 'i1' 'j1' 'k1' 'l1' 'm1' 'n1' 'o1' 'p1' 'q1' 'r1' 's1' 't1' 'u1' 'v1' 'w1'\n",
      " 'x1' 'y1' 'z1']\n",
      "numbers:\n",
      " [[ 0  1  2  3  4  5  6  7  8  9 10 11 12 13 14 15 16 17 18 19 20 21 22 23\n",
      "  24 25 25 24 23 22 21 20 19 18 17 16 15 14 13 12 11 10  9  8  7  6  5  4\n",
      "   3  2  1  0]\n",
      " [ 0  1  2  3  4  5  6  7  8  9 10 11 12 13 14 15 16 17 18 19 20 21 22 23\n",
      "  24 25  0  1  2  3  4  5  6  7  8  9 10 11 12 13 14 15 16 17 18 19 20 21\n",
      "  22 23 24 25]]\n"
     ]
    }
   ],
   "source": [
    "print(\"target:\", target)\n",
    "print(\"names:\",number_names)\n",
    "print(\"numbers:\"\"\\n\",numbers)"
   ]
  },
  {
   "cell_type": "code",
   "execution_count": 7,
   "metadata": {
    "collapsed": false
   },
   "outputs": [
    {
     "data": {
      "text/plain": [
       "(52,)"
      ]
     },
     "execution_count": 7,
     "metadata": {},
     "output_type": "execute_result"
    }
   ],
   "source": [
    "target.shape"
   ]
  },
  {
   "cell_type": "code",
   "execution_count": 8,
   "metadata": {
    "collapsed": false
   },
   "outputs": [
    {
     "data": {
      "text/plain": [
       "(2, 52)"
      ]
     },
     "execution_count": 8,
     "metadata": {},
     "output_type": "execute_result"
    }
   ],
   "source": [
    "numbers.shape"
   ]
  },
  {
   "cell_type": "code",
   "execution_count": 9,
   "metadata": {
    "collapsed": false
   },
   "outputs": [],
   "source": [
    "\"\"\"Use Colors Using fromList() method. Takes In RGB Values\"\"\"  \n",
    "# http://www.rapidtables.com/web/color/RGB_Color.htm\n",
    "# List of RGB Colors\n",
    "startcolor = '#800000'  # maroon\n",
    "midcolor = '#00FFFF'    # aqua\n",
    "endcolor = '#000000'    # white\n",
    "cmap2 = color.LinearSegmentedColormap.from_list('name',[startcolor,midcolor,endcolor], N=256, gamma=1)\n",
    "cm.register_cmap(name='name',cmap=cmap2)"
   ]
  },
  {
   "cell_type": "code",
   "execution_count": 10,
   "metadata": {
    "collapsed": false
   },
   "outputs": [
    {
     "data": {
      "image/png": "[encoded data removed]",
      "text/plain": [
       "<matplotlib.figure.Figure at 0x10c7b4fd0>"
      ]
     },
     "metadata": {},
     "output_type": "display_data"
    }
   ],
   "source": [
    "def number_plot(numbers):\n",
    "  \n",
    "    formatter = plt.FuncFormatter(lambda i, *args: number_names[(i)])\n",
    "    plt.scatter(numbers[0], numbers[1], c = target[:,], cmap = cmap2) # Target, 1D-Array\n",
    "    plt.colorbar(ticks = [0,1,2,3,4,5,6,7,8,9,10,11,12,13,14,15,16,17,18,19,20,21,22,23,24,25, \\\n",
    "             26 , 27 ,28 ,29 ,30 ,31 ,32 ,33 ,34 ,35 ,36 ,37 ,38 ,39 , 40 ,41 ,42 ,43 ,44 ,45 ,46 ,47 ,48 ,49, 50, 51\n",
    "                         ], format = formatter)\n",
    "    \n",
    "number_plot(numbers)"
   ]
  }
 ],
 "metadata": {
  "kernelspec": {
   "display_name": "Python 3",
   "language": "python",
   "name": "python3"
  },
  "language_info": {
   "codemirror_mode": {
    "name": "ipython",
    "version": 3
   },
   "file_extension": ".py",
   "mimetype": "text/x-python",
   "name": "python",
   "nbconvert_exporter": "python",
   "pygments_lexer": "ipython3",
   "version": "3.6.0"
  }
 },
 "nbformat": 4,
 "nbformat_minor": 2
}
