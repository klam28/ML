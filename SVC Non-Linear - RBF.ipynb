{
 "cells": [
  {
   "cell_type": "code",
   "execution_count": 67,
   "metadata": {
    "collapsed": false
   },
   "outputs": [],
   "source": [
    "%matplotlib inline\n",
    "import numpy as np\n",
    "import matplotlib.pyplot as plt\n",
    "import matplotlib\n",
    "from sklearn import svm\n",
    "import matplotlib.colors as color\n",
    "import matplotlib.cm as cm\n",
    "from matplotlib import style\n",
    "style.use(\"ggplot\")"
   ]
  },
  {
   "cell_type": "code",
   "execution_count": 68,
   "metadata": {
    "collapsed": false
   },
   "outputs": [],
   "source": [
    "# x = np.array([1.8,1.8,1.8,1.8,1.8,2.1,2.1,2.1,2.1,2.5,2.9,2.9,2.5,3.4,3.4,3.4,3.4])\n",
    "# y = np.array([0.3,1.5,2.5,3.2,4.0,0.4,2.3,2.7,3.4,2.3,2.3,2.5,3.5,0.4,2.2,2.7,3.5])\n",
    "\n",
    "x = np.array([1.8,1.8,1.8,1.8,1.8,2.1,2.1,2.1,2.1,2.5,2.9,2.9,2.5,3.4,3.4,3.4,3.4,4])\n",
    "y = np.array([0.3,1.5,2.5,3.2,4.0,0.4,2.3,2.7,3.4,2.3,2.3,2.5,3.5,0.4,2.2,2.7,3.5,5])\n",
    "\n",
    "target = np.array([0,0,0,0,0,1,1,1,1,1,1,1,1,0,0,0,0,1])\n",
    "data = np.array([x,y])\n",
    "data = data.T\n",
    "names = np.array(['Points_A', 'Points_B'])\n",
    "data.reshape(12,3) # 12 Vectors"
   ]
  },
  {
   "cell_type": "code",
   "execution_count": 69,
   "metadata": {
    "collapsed": false
   },
   "outputs": [
    {
     "data": {
      "image/png": "[encoded data removed]",
      "text/plain": [
       "<matplotlib.figure.Figure at 0x10cfa6780>"
      ]
     },
     "metadata": {},
     "output_type": "display_data"
    }
   ],
   "source": [
    "colorsList = [('darkblue'),('maroon'),]\n",
    "my_cmap = matplotlib.colors.ListedColormap(colorsList)\n",
    "cm.register_cmap(name='name',cmap=my_cmap)\n",
    "\n",
    "def number_plot(data):\n",
    "    formatter = plt.FuncFormatter(lambda i, *args: names[i])\n",
    "    plt.scatter(x,y, c = target,cmap = my_cmap)\n",
    "    plt.colorbar(ticks = target, format = formatter)\n",
    "    \n",
    "number_plot(data)"
   ]
  },
  {
   "cell_type": "code",
   "execution_count": 62,
   "metadata": {
    "collapsed": false
   },
   "outputs": [
    {
     "data": {
      "text/plain": [
       "(18, 2)"
      ]
     },
     "execution_count": 62,
     "metadata": {},
     "output_type": "execute_result"
    }
   ],
   "source": [
    "data.shape"
   ]
  },
  {
   "cell_type": "code",
   "execution_count": 63,
   "metadata": {
    "collapsed": false
   },
   "outputs": [],
   "source": [
    "# create a mesh to plot in\n",
    "x_min, x_max = x.min() - 0.5, x.max() + 0.5\n",
    "y_min, y_max = y.min() - 0.5, y.max() + 0.5\n",
    "\n",
    "h = (x_max / x_min) / 100 \n",
    "xx, yy = np.meshgrid(np.arange(x_min, x_max, h),\n",
    "np.arange(y_min, y_max, h))"
   ]
  },
  {
   "cell_type": "code",
   "execution_count": 64,
   "metadata": {
    "collapsed": false
   },
   "outputs": [],
   "source": [
    "colorsList2 = [('blue'),('pink'),]\n",
    "my_cmap2 = matplotlib.colors.ListedColormap(colorsList2)\n",
    "cm.register_cmap(name='name',cmap=my_cmap2)"
   ]
  },
  {
   "cell_type": "code",
   "execution_count": 65,
   "metadata": {
    "collapsed": false
   },
   "outputs": [],
   "source": [
    "# svc = svm.SVC(kernel='poly', C=1,gamma='auto').fit(data, target)\n",
    "svc = svm.SVC(kernel='rbf', C=15,gamma='auto').fit(data, target)\n",
    "# svc = svm.SVC(kernel='linear', C=1,gamma='auto').fit(data, target)\n",
    "# svc = svm.SVC(kernel='sigmoid', C=1,gamma='auto').fit(data, target)"
   ]
  },
  {
   "cell_type": "code",
   "execution_count": 66,
   "metadata": {
    "collapsed": false
   },
   "outputs": [
    {
     "data": {
      "text/plain": [
       "<matplotlib.contour.QuadContourSet at 0x10d3e7588>"
      ]
     },
     "execution_count": 66,
     "metadata": {},
     "output_type": "execute_result"
    },
    {
     "data": {
      "image/png": "[encoded data removed]",
      "text/plain": [
       "<matplotlib.figure.Figure at 0x10d3be630>"
      ]
     },
     "metadata": {},
     "output_type": "display_data"
    }
   ],
   "source": [
    "formatter = plt.FuncFormatter(lambda i, *args: names[i])\n",
    "plt.scatter(x,y, c = target, cmap = my_cmap)\n",
    "plt.colorbar(ticks = target, format = formatter)\n",
    "\n",
    "plt.subplot(1, 1, 1) # Size of Subplot\n",
    "\n",
    "Z = svc.predict(np.c_[xx.ravel(), yy.ravel()]) # Predict the Space For the Points \n",
    "Z = Z.reshape(xx.shape)\n",
    "\n",
    "plt.contourf(xx, yy, Z, cmap = my_cmap2, alpha=0.3)"
   ]
  }
 ],
 "metadata": {
  "kernelspec": {
   "display_name": "Python 3",
   "language": "python",
   "name": "python3"
  },
  "language_info": {
   "codemirror_mode": {
    "name": "ipython",
    "version": 3
   },
   "file_extension": ".py",
   "mimetype": "text/x-python",
   "name": "python",
   "nbconvert_exporter": "python",
   "pygments_lexer": "ipython3",
   "version": "3.6.0"
  }
 },
 "nbformat": 4,
 "nbformat_minor": 2
}
