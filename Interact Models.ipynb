{
 "cells": [
  {
   "cell_type": "code",
   "execution_count": 1,
   "metadata": {
    "collapsed": false
   },
   "outputs": [
    {
     "name": "stderr",
     "output_type": "stream",
     "text": [
      "/Users/kerrylam/anaconda/lib/python3.6/site-packages/sklearn/cross_validation.py:41: DeprecationWarning: This module was deprecated in version 0.18 in favor of the model_selection module into which all the refactored classes and functions are moved. Also note that the interface of the new CV iterators are different from that of this module. This module will be removed in 0.20.\n",
      "  \"This module will be removed in 0.20.\", DeprecationWarning)\n"
     ]
    }
   ],
   "source": [
    "from sklearn import svm\n",
    "import numpy as np\n",
    "from sklearn.cross_validation import cross_val_score\n",
    "from sklearn.cross_validation import train_test_split \n",
    "from sklearn import metrics\n",
    "\n",
    "accuracy = metrics.accuracy_score\n",
    "\n",
    "m7 = poly = svm.SVC(kernel='poly', C=1,gamma='auto')\n",
    "m8 = rbf = svm.SVC(kernel='rbf', C=1,gamma='auto')\n",
    "m9 = linear = svm.SVC(kernel='linear', C=1,gamma='auto')\n",
    "m10 = sigmoid = svm.SVC(kernel='sigmoid', C=1,gamma='auto')\n",
    "\n",
    "models = ['poly','rbf','linear','sigmoid']"
   ]
  },
  {
   "cell_type": "code",
   "execution_count": 2,
   "metadata": {
    "collapsed": false
   },
   "outputs": [],
   "source": [
    "np.random.seed(0)\n",
    "X = np.vstack([np.random.normal(0, 1, (1000, 2)), \n",
    "               np.random.normal(-10.8, 0.8, (250, 2))])  \n",
    "\n",
    "target = np.hstack([np.zeros(1000), np.ones(250)])"
   ]
  },
  {
   "cell_type": "code",
   "execution_count": 3,
   "metadata": {
    "collapsed": false
   },
   "outputs": [],
   "source": [
    "X_train, X_test, target_train, target_test = train_test_split(X, target, test_size = 0.35)"
   ]
  },
  {
   "cell_type": "code",
   "execution_count": 4,
   "metadata": {
    "collapsed": false
   },
   "outputs": [
    {
     "name": "stdout",
     "output_type": "stream",
     "text": [
      "CV Score [ 1.  1.  1.]\n",
      "Mean CV Score: 1.0\n",
      "SVC(C=1, cache_size=200, class_weight=None, coef0=0.0,\n",
      "  decision_function_shape='ovr', degree=3, gamma='auto', kernel='poly',\n",
      "  max_iter=-1, probability=False, random_state=None, shrinking=True,\n",
      "  tol=0.001, verbose=False) \n",
      "\n",
      "CV Score [ 1.  1.  1.]\n",
      "Mean CV Score: 1.0\n",
      "SVC(C=1, cache_size=200, class_weight=None, coef0=0.0,\n",
      "  decision_function_shape='ovr', degree=3, gamma='auto', kernel='rbf',\n",
      "  max_iter=-1, probability=False, random_state=None, shrinking=True,\n",
      "  tol=0.001, verbose=False) \n",
      "\n",
      "CV Score [ 1.  1.  1.]\n",
      "Mean CV Score: 1.0\n",
      "SVC(C=1, cache_size=200, class_weight=None, coef0=0.0,\n",
      "  decision_function_shape='ovr', degree=3, gamma='auto', kernel='linear',\n",
      "  max_iter=-1, probability=False, random_state=None, shrinking=True,\n",
      "  tol=0.001, verbose=False) \n",
      "\n",
      "CV Score [ 0.  0.  0.]\n",
      "Mean CV Score: 0.0\n",
      "SVC(C=1, cache_size=200, class_weight=None, coef0=0.0,\n",
      "  decision_function_shape='ovr', degree=3, gamma='auto', kernel='sigmoid',\n",
      "  max_iter=-1, probability=False, random_state=None, shrinking=True,\n",
      "  tol=0.001, verbose=False) \n",
      "\n"
     ]
    }
   ],
   "source": [
    "for i in models:\n",
    "    x = svm.SVC(kernel=i, C=1,gamma='auto')\n",
    "    cv_score = cross_val_score(x, X, target, cv=3, scoring = 'precision')\n",
    "    print(\"CV Score\",cv_score)\n",
    "    print('Mean CV Score:',np.mean(cv_score))\n",
    "    print(x, \"\\n\")"
   ]
  },
  {
   "cell_type": "code",
   "execution_count": 5,
   "metadata": {
    "collapsed": false
   },
   "outputs": [
    {
     "name": "stdout",
     "output_type": "stream",
     "text": [
      "19.63 % Accuracy\n",
      "SVC(C=50, cache_size=200, class_weight=None, coef0=0.0,\n",
      "  decision_function_shape='ovr', degree=50, gamma=50, kernel='poly',\n",
      "  max_iter=-1, probability=False, random_state=None, shrinking=True,\n",
      "  tol=0.001, verbose=False) \n",
      "\n",
      "95.89 % Accuracy\n",
      "SVC(C=50, cache_size=200, class_weight=None, coef0=0.0,\n",
      "  decision_function_shape='ovr', degree=50, gamma=50, kernel='rbf',\n",
      "  max_iter=-1, probability=False, random_state=None, shrinking=True,\n",
      "  tol=0.001, verbose=False) \n",
      "\n",
      "100.0 % Accuracy\n",
      "SVC(C=50, cache_size=200, class_weight=None, coef0=0.0,\n",
      "  decision_function_shape='ovr', degree=50, gamma=50, kernel='linear',\n",
      "  max_iter=-1, probability=False, random_state=None, shrinking=True,\n",
      "  tol=0.001, verbose=False) \n",
      "\n",
      "58.22 % Accuracy\n",
      "SVC(C=50, cache_size=200, class_weight=None, coef0=0.0,\n",
      "  decision_function_shape='ovr', degree=50, gamma=50, kernel='sigmoid',\n",
      "  max_iter=-1, probability=False, random_state=None, shrinking=True,\n",
      "  tol=0.001, verbose=False) \n",
      "\n"
     ]
    }
   ],
   "source": [
    "from ipywidgets import interact\n",
    "# model.fit(X_train, target_train)\n",
    "# target_pred = model.predict(X_test)\n",
    "ranges = [1,100,1]\n",
    "@interact(c_range = ranges, degree = ranges, gamma = ranges)\n",
    "def acc(c_range, degree, gamma):\n",
    "    for i in models:\n",
    "        model = svm.SVC(kernel = i, C = c_range, degree = degree, gamma = gamma)\n",
    "        model.fit(X_train, target_train)\n",
    "        target_pred = model.predict(X_test)\n",
    "        print(round(accuracy(target_test, target_pred)*100, 2), \"% Accuracy\")\n",
    "        print(model, \"\\n\")"
   ]
  },
  {
   "cell_type": "code",
   "execution_count": null,
   "metadata": {
    "collapsed": true
   },
   "outputs": [],
   "source": []
  },
  {
   "cell_type": "code",
   "execution_count": null,
   "metadata": {
    "collapsed": true
   },
   "outputs": [],
   "source": []
  }
 ],
 "metadata": {
  "kernelspec": {
   "display_name": "Python 3",
   "language": "python",
   "name": "python3"
  },
  "language_info": {
   "codemirror_mode": {
    "name": "ipython",
    "version": 3
   },
   "file_extension": ".py",
   "mimetype": "text/x-python",
   "name": "python",
   "nbconvert_exporter": "python",
   "pygments_lexer": "ipython3",
   "version": "3.6.0"
  },
  "widgets": {
   "state": {
    "f797cfadd9ef40a4af9ef213aada488d": {
     "views": [
      {
       "cell_index": 4
      }
     ]
    }
   },
   "version": "1.2.0"
  }
 },
 "nbformat": 4,
 "nbformat_minor": 2
}
